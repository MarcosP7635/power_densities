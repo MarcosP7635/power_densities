{
 "cells": [
  {
   "cell_type": "code",
   "execution_count": null,
   "metadata": {},
   "outputs": [],
   "source": [
    "import pandas as pd\n",
    "import numpy as np\n",
    "import plotly.express as px\n",
    "import ipywidgets #as widgets\n",
    "import plotly.express as px\n",
    "import plotly.graph_objects as go"
   ]
  },
  {
   "cell_type": "code",
   "execution_count": null,
   "metadata": {},
   "outputs": [],
   "source": [
    "high_res_time_series_df = pd.read_csv(\n",
    "    \"Corrected_power_time_series_201_steps.csv\",\n",
    "    on_bad_lines = 'warn')"
   ]
  },
  {
   "cell_type": "code",
   "execution_count": null,
   "metadata": {},
   "outputs": [],
   "source": [
    "high_res_time_series_df.set_index('Parent Isotope', inplace = True)\n",
    "time_array = [float(t) for t in high_res_time_series_df.columns]"
   ]
  },
  {
   "cell_type": "code",
   "execution_count": null,
   "metadata": {},
   "outputs": [],
   "source": [
    "def get_max(entries):\n",
    "  cols = [''.join([l for l in entry if l.isdigit()]) + \n",
    "          ''.join([l for l in entry if l.isalpha()])\n",
    "          for entry in entries.split(\",\")]\n",
    "  max_y = np.max(high_res_time_series_df.loc[cols[0]])\n",
    "  for col in cols[1:]:\n",
    "    max_y = max(max_y, np.max(high_res_time_series_df.loc[col]))\n",
    "  return max_y\n",
    "def plot(entries):\n",
    "  fig = go.Figure()\n",
    "  if \",\" in entries:\n",
    "    title = \"Power Produced by 1 Gram Each of \"\n",
    "  else:\n",
    "    title = \"Power Produced by 1 Gram of \"\n",
    "  for entry in entries.split(\",\"):\n",
    "    A = int(''.join([l for l in entry if l.isdigit()]))\n",
    "    El = ''.join([l for l in entry if l.isalpha()])\n",
    "    entry = str(A) + El\n",
    "    if np.max(high_res_time_series_df.loc[entry]) < 10**-6 :\n",
    "      fig.update_layout(title = entry + \" produces less than 1μW\") \n",
    "      return fig\n",
    "    else:\n",
    "      fig.add_trace(go.Scatter(x = time_array,\n",
    "            y = high_res_time_series_df.loc[entry] / A,\n",
    "            name = El + \"-\" + str(A), mode = \"markers\"))\n",
    "      y_dict = dict(type = \"log\", title = \"Power (Watts)\", nticks = 16,\n",
    "              range = [-6, np.log10(get_max(entries))] )\n",
    "      x_dict = dict(type = \"log\", title = \"Time (Seconds)\", nticks = 24,\n",
    "                    range = [-10, 10])\n",
    "      fig.update_layout(xaxis = x_dict, yaxis = y_dict,\n",
    "              title = title + entries)  \n",
    "  return fig"
   ]
  },
  {
   "cell_type": "code",
   "execution_count": null,
   "metadata": {},
   "outputs": [],
   "source": [
    "from IPython.display import display, clear_output\n",
    "button = ipywidgets.Button(description='Make Plot')\n",
    "button_multiple = ipywidgets.Button(description='Make Plot')\n",
    "output = ipywidgets.Output()\n",
    "dropdown = ipywidgets.Dropdown(\n",
    "            options=[x for x in high_res_time_series_df.index],\n",
    "            value = \"3H\")\n",
    "text_box = ipywidgets.Text(description=\"Type here\")\n",
    "\n",
    "def on_button_clicked_1_isotope(b):\n",
    "  with output:\n",
    "    clear_output()\n",
    "    plot(dropdown.value).show()\n",
    "\n",
    "button.on_click(on_button_clicked_1_isotope)\n",
    "\n",
    "def on_button_clicked_multiple_isotopes(c):\n",
    "  with output:\n",
    "    clear_output()\n",
    "    plot(text_box.value).show()   \n",
    "\n",
    "button_multiple.on_click(on_button_clicked_multiple_isotopes)"
   ]
  },
  {
   "cell_type": "markdown",
   "metadata": {},
   "source": [
    "#Plot Data Interactively\n",
    "After clicking on the dropdown box, you can type the name of an isotope to find it in the list. Click \"Make Plot\" once you have selected an isotope. "
   ]
  },
  {
   "cell_type": "code",
   "execution_count": null,
   "metadata": {},
   "outputs": [],
   "source": [
    "display(dropdown, button, output)"
   ]
  },
  {
   "cell_type": "markdown",
   "metadata": {},
   "source": [
    "#Plot and compare multiple isotopes\n",
    "Enter the isotope(s) to plot, each isotope separated by a comma. Click \"Make Plot\" once you have entered the isotope(s). "
   ]
  },
  {
   "cell_type": "code",
   "execution_count": null,
   "metadata": {},
   "outputs": [],
   "source": [
    "display(text_box, button_multiple, output)"
   ]
  }
 ],
 "metadata": {
  "kernelspec": {
   "display_name": "Python 3.9.10 64-bit",
   "language": "python",
   "name": "python3"
  },
  "language_info": {
   "name": "python",
   "version": "3.9.10"
  },
  "orig_nbformat": 4,
  "vscode": {
   "interpreter": {
    "hash": "274785dbb282d05f4e0ae2ca70ac66f1fa0484127cd60ef9f4ac2dd997977034"
   }
  }
 },
 "nbformat": 4,
 "nbformat_minor": 2
}
