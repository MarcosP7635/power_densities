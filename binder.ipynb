{
 "cells": [
  {
   "cell_type": "code",
   "execution_count": null,
   "metadata": {},
   "outputs": [],
   "source": [
    "import pandas as pd\n",
    "import numpy as np\n",
    "import plotly.express as px\n",
    "import ipywidgets #as widgets\n",
    "import plotly.express as px\n",
    "import plotly.graph_objects as go"
   ]
  },
  {
   "cell_type": "code",
   "execution_count": null,
   "metadata": {},
   "outputs": [],
   "source": [
    "high_res_time_series_df = pd.read_csv(\n",
    "    \"Corrected_power_time_series_201_steps.csv\",\n",
    "    on_bad_lines = 'warn')"
   ]
  },
  {
   "cell_type": "code",
   "execution_count": null,
   "metadata": {},
   "outputs": [],
   "source": [
    "high_res_time_series_df.set_index('Parent Isotope', inplace = True)\n",
    "time_array = [float(t) for t in high_res_time_series_df.columns]"
   ]
  },
  {
   "cell_type": "code",
   "execution_count": null,
   "metadata": {},
   "outputs": [],
   "source": [
    "fig = go.Figure()"
   ]
  },
  {
   "cell_type": "code",
   "execution_count": null,
   "metadata": {},
   "outputs": [],
   "source": [
    "entries = [x for x in high_res_time_series_df.index]\n",
    "for entry in entries[0:10]:\n",
    "    A = int(''.join([l for l in entry if l.isdigit()]))\n",
    "    El = ''.join([l for l in entry if l.isalpha()])\n",
    "    entry = str(A) + El\n",
    "    fig.add_trace(go.Scatter(x = time_array,\n",
    "                y = high_res_time_series_df.loc[entry] / A,\n",
    "                name = El + \"-\" + str(A), mode = \"markers\"))"
   ]
  },
  {
   "cell_type": "code",
   "execution_count": null,
   "metadata": {},
   "outputs": [],
   "source": [
    "title = \"Power produced by 1 Gram of each isotope\"\n",
    "y_dict = dict(type = \"log\", title = \"Power (Watts)\")\n",
    "x_dict = dict(type = \"log\", title = \"Time (Seconds)\")\n",
    "fig.update_layout(xaxis = x_dict, yaxis = y_dict,\n",
    "              title = title) "
   ]
  },
  {
   "cell_type": "code",
   "execution_count": null,
   "metadata": {},
   "outputs": [],
   "source": [
    "fig.write_html(\"path/to/power_all_isotopes.html\")"
   ]
  }
 ],
 "metadata": {
  "kernelspec": {
   "display_name": "Python 3.9.13 ('Heroku_39_env')",
   "language": "python",
   "name": "python3"
  },
  "language_info": {
   "codemirror_mode": {
    "name": "ipython",
    "version": 3
   },
   "file_extension": ".py",
   "mimetype": "text/x-python",
   "name": "python",
   "nbconvert_exporter": "python",
   "pygments_lexer": "ipython3",
   "version": "3.9.13"
  },
  "orig_nbformat": 4,
  "vscode": {
   "interpreter": {
    "hash": "93e603b405028e2ab398d7a85d86124a7ac0b053113ed31068605d4be5533369"
   }
  }
 },
 "nbformat": 4,
 "nbformat_minor": 2
}
